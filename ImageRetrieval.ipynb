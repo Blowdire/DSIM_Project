{
 "cells": [
  {
   "attachments": {},
   "cell_type": "markdown",
   "metadata": {},
   "source": [
    "## Image Retrieval"
   ]
  },
  {
   "cell_type": "code",
   "execution_count": 2,
   "metadata": {},
   "outputs": [],
   "source": [
    "import numpy as np \n",
    "from tensorflow.keras.models import Model\n",
    "from tensorflow.keras.applications.vgg16 import VGG16\n",
    "from tensorflow.keras.preprocessing import image\n",
    "from tensorflow.keras.applications.vgg16 import preprocess_input\n",
    "import pathlib\n",
    "import tensorflow as tf\n",
    "from tensorflow.keras import layers"
   ]
  },
  {
   "cell_type": "code",
   "execution_count": 2,
   "metadata": {},
   "outputs": [],
   "source": [
    "from pathlib import Path\n",
    "import imghdr\n",
    "import os\n",
    "data_dir = \"./Datasets/ImageRetrieval/Train/\"\n",
    "# add there all your images file extensions\n",
    "image_extensions = [\".png\", \".jpg\",\".jpeg\"]\n",
    "\n",
    "img_type_accepted_by_tf = [\"bmp\", \"gif\", \"jpeg\", \"png\"]\n",
    "for filepath in Path(data_dir).rglob(\"*\"):\n",
    "    if filepath.suffix.lower() in image_extensions:\n",
    "        img_type = imghdr.what(filepath)\n",
    "        if img_type is None:\n",
    "            os.remove('./'+str(filepath))\n",
    "            print(f\"{filepath} is not an image\")\n",
    "        elif img_type not in img_type_accepted_by_tf:\n",
    "            os.remove('./'+str(filepath))\n",
    "            print(f\"{filepath} is a {img_type}, not accepted by TensorFlow\")\n"
   ]
  },
  {
   "cell_type": "code",
   "execution_count": 3,
   "metadata": {},
   "outputs": [
    {
     "name": "stdout",
     "output_type": "stream",
     "text": [
      "Found 14811 files belonging to 10 classes.\n",
      "Found 1500 files belonging to 10 classes.\n"
     ]
    }
   ],
   "source": [
    "train_ds = tf.keras.preprocessing.image_dataset_from_directory('./Datasets/ImageRetrieval/Train', batch_size=128,\n",
    "                                                               label_mode='categorical', image_size=(224, 224), shuffle=False)\n",
    "test_ds = tf.keras.preprocessing.image_dataset_from_directory('./Datasets/ImageRetrieval/Test', batch_size=128,\n",
    "                                                               label_mode='categorical', image_size=(224, 224), seed=1)\n",
    "# val_ds = tf.keras.preprocessing.image_dataset_from_directory('./Datasets/ImageRetrieval/Valid', batch_size=128,\n",
    "#                                                              label_mode='categorical', image_size=(224, 224), seed=1)\n"
   ]
  },
  {
   "cell_type": "code",
   "execution_count": 4,
   "metadata": {},
   "outputs": [],
   "source": [
    "def format_image(image, label, paths):\n",
    "    image = tf.image.resize(image, (224, 224))/255.0\n",
    "\n",
    "    image = preprocess_input(image)\n",
    "    return image, label,  tf.constant(paths)\n"
   ]
  },
  {
   "cell_type": "code",
   "execution_count": 5,
   "metadata": {},
   "outputs": [],
   "source": [
    "train_ds = train_ds.map(lambda images, labels: format_image(images, labels, paths = train_ds.file_paths))\n",
    "test_ds = test_ds.map(lambda images, labels: format_image(\n",
    "    images, labels, paths=test_ds.file_paths))\n"
   ]
  },
  {
   "cell_type": "code",
   "execution_count": 6,
   "metadata": {},
   "outputs": [
    {
     "name": "stdout",
     "output_type": "stream",
     "text": [
      "Model: \"model\"\n",
      "_________________________________________________________________\n",
      " Layer (type)                Output Shape              Param #   \n",
      "=================================================================\n",
      " input_1 (InputLayer)        [(None, 224, 224, 3)]     0         \n",
      "                                                                 \n",
      " block1_conv1 (Conv2D)       (None, 224, 224, 64)      1792      \n",
      "                                                                 \n",
      " block1_conv2 (Conv2D)       (None, 224, 224, 64)      36928     \n",
      "                                                                 \n",
      " block1_pool (MaxPooling2D)  (None, 112, 112, 64)      0         \n",
      "                                                                 \n",
      " block2_conv1 (Conv2D)       (None, 112, 112, 128)     73856     \n",
      "                                                                 \n",
      " block2_conv2 (Conv2D)       (None, 112, 112, 128)     147584    \n",
      "                                                                 \n",
      " block2_pool (MaxPooling2D)  (None, 56, 56, 128)       0         \n",
      "                                                                 \n",
      " block3_conv1 (Conv2D)       (None, 56, 56, 256)       295168    \n",
      "                                                                 \n",
      " block3_conv2 (Conv2D)       (None, 56, 56, 256)       590080    \n",
      "                                                                 \n",
      " block3_conv3 (Conv2D)       (None, 56, 56, 256)       590080    \n",
      "                                                                 \n",
      " block3_pool (MaxPooling2D)  (None, 28, 28, 256)       0         \n",
      "                                                                 \n",
      "=================================================================\n",
      "Total params: 1,735,488\n",
      "Trainable params: 1,735,488\n",
      "Non-trainable params: 0\n",
      "_________________________________________________________________\n"
     ]
    }
   ],
   "source": [
    "base_model = VGG16(weights='imagenet')\n",
    "model = Model(inputs=base_model.input,\n",
    "              outputs=base_model.get_layer('block3_pool').output)\n",
    "model.summary()\n"
   ]
  },
  {
   "cell_type": "code",
   "execution_count": 7,
   "metadata": {},
   "outputs": [
    {
     "name": "stderr",
     "output_type": "stream",
     "text": [
      "  1%|          | 1/116 [00:09<17:32,  9.15s/it]"
     ]
    },
    {
     "name": "stdout",
     "output_type": "stream",
     "text": [
      "[1. 0. 0. 0. 0. 0. 0. 0. 0. 0.]\n",
      "tf.Tensor(b'./Datasets/ImageRetrieval/Train\\\\Baked Potato\\\\Baked Potato-Train (1).jpeg', shape=(), dtype=string)\n"
     ]
    },
    {
     "name": "stderr",
     "output_type": "stream",
     "text": [
      " 59%|█████▉    | 69/116 [01:22<02:03,  2.63s/it]"
     ]
    }
   ],
   "source": [
    "from tqdm import tqdm\n",
    "train_features = [[],[],[]]\n",
    "path_index = 0\n",
    "for items, images, paths in tqdm(train_ds):   \n",
    "  current_paths = tf.constant(paths)\n",
    "  predictions = model.predict(items, verbose=False)\n",
    "  for prediction in predictions:\n",
    "    path = tf.get_static_value(paths[path_index]).decode(\"utf-8\")\n",
    "    train_features[0].append(prediction.flatten())\n",
    "    train_features[1].append(path)\n",
    "    if(path_index == 0):\n",
    "      print(tf.get_static_value(images[path_index]))\n",
    "      print(paths[path_index])\n",
    "      path_index += 1\n",
    "  for label in images:\n",
    "    train_features[2].append(tf.get_static_value(label))\n",
    "\n",
    "\n"
   ]
  },
  {
   "cell_type": "code",
   "execution_count": 8,
   "metadata": {},
   "outputs": [
    {
     "name": "stderr",
     "output_type": "stream",
     "text": [
      "  8%|▊         | 1/12 [00:09<01:43,  9.43s/it]"
     ]
    },
    {
     "name": "stdout",
     "output_type": "stream",
     "text": [
      "[1. 0. 0. 0. 0. 0. 0. 0. 0. 0.]\n",
      "tf.Tensor(b'./Datasets/ImageRetrieval/Test\\\\Baked Potato\\\\Baked Potato-Test (91).jpeg', shape=(), dtype=string)\n"
     ]
    },
    {
     "name": "stderr",
     "output_type": "stream",
     "text": [
      "100%|██████████| 12/12 [00:16<00:00,  1.37s/it]\n"
     ]
    }
   ],
   "source": [
    "from tqdm import tqdm\n",
    "test_features = [[], [], []]\n",
    "path_index = 0\n",
    "for items, images, paths in tqdm(test_ds):\n",
    "  current_paths = tf.constant(paths)\n",
    "  predictions = model.predict(items, verbose=False)\n",
    "  for prediction in predictions:\n",
    "    path = tf.get_static_value(paths[path_index]).decode(\"utf-8\")\n",
    "    test_features[0].append(prediction.flatten())\n",
    "    test_features[1].append(path)\n",
    "    if (path_index == 0):\n",
    "      print(tf.get_static_value(images[path_index]))\n",
    "      print(paths[path_index])\n",
    "      path_index += 1\n",
    "  for label in images:\n",
    "    test_features[2].append(tf.get_static_value(label))\n"
   ]
  },
  {
   "cell_type": "code",
   "execution_count": null,
   "metadata": {},
   "outputs": [],
   "source": [
    "# pip install git+https://github.com/u1234x1234/pynanoflann.git@0.0.8\n",
    "import pynanoflann\n",
    "nn = pynanoflann.KDTree(n_neighbors=10, metric='L2', radius=100)\n",
    "nn.fit(np.array(train_features[0],dtype=np.float32))\n"
   ]
  },
  {
   "cell_type": "code",
   "execution_count": 91,
   "metadata": {},
   "outputs": [],
   "source": [
    "np.savez_compressed('./Datasets/ImageRetrieval/ProcessedFeatures/train.npz', train_features= train_features)"
   ]
  },
  {
   "cell_type": "code",
   "execution_count": 53,
   "metadata": {},
   "outputs": [],
   "source": [
    "import pickle\n",
    "\n",
    "with open('./k_tree.pkl','wb') as f:\n",
    "  pickle.dump(nn, f)\n"
   ]
  },
  {
   "cell_type": "code",
   "execution_count": null,
   "metadata": {},
   "outputs": [],
   "source": [
    "import numpy as np\n",
    "from tqdm import tqdm\n",
    "from scipy.spatial import distance\n",
    "from sklearn import metrics\n",
    "import matplotlib.pyplot as plt\n",
    "\n",
    "train_features = np.array(train_features)\n",
    "def format_image(image):\n",
    "    image = tf.image.resize(image, (224, 224))/255.0\n",
    "    image = preprocess_input(image)\n",
    "    image_exp = np.expand_dims(image, axis=0).copy()\n",
    "    print(image_exp.shape)\n",
    "    return image_exp\n",
    "\n",
    "\n",
    "def search_image(img_path, model, tree, feature=None, plot=False):\n",
    "  distances = None\n",
    "  indices = None\n",
    "  if feature is None:  \n",
    "    image = tf.keras.preprocessing.image.load_img(img_path)\n",
    "    image = tf.keras.preprocessing.image.img_to_array(image)\n",
    "    copy_image = image.copy()\n",
    "    formatted_img = format_image(image)\n",
    "    features = model.predict([formatted_img])\n",
    "    print(train_features[0][0].shape)\n",
    "    extr_feature = features[0]\n",
    "    extr_feature = extr_feature.flatten()\n",
    "    distances, indices = tree.kneighbors(\n",
    "        np.array([extr_feature], dtype=np.float32))\n",
    "  else:\n",
    "    distances, indices = tree.kneighbors(\n",
    "        np.array([feature], dtype=np.float32))\n",
    "  if plot:\n",
    "    fig = plt.figure(figsize=(8, 8))\n",
    "    distances = distances[0]\n",
    "    indices = indices[0]\n",
    "\n",
    "    axes = []\n",
    "\n",
    "    for a in range(5*2):\n",
    "        score = distances[a]\n",
    "        axes.append(fig.add_subplot(5, 2, a+1))\n",
    "        plt.axis('off')\n",
    "        plt.imshow(tf.keras.preprocessing.image.load_img(\n",
    "            train_features[1][indices[a]], color_mode='rgb'))\n",
    "    fig.tight_layout()\n",
    "    plt.show()\n",
    "  return indices"
   ]
  },
  {
   "cell_type": "code",
   "execution_count": 11,
   "metadata": {},
   "outputs": [],
   "source": [
    "base_model = VGG16(weights='imagenet')\n",
    "model = Model(inputs=base_model.input,\n",
    "              outputs=base_model.get_layer('block3_pool').output)\n",
    "\n"
   ]
  },
  {
   "attachments": {},
   "cell_type": "markdown",
   "metadata": {},
   "source": [
    "### Evaluation"
   ]
  },
  {
   "cell_type": "code",
   "execution_count": 12,
   "metadata": {},
   "outputs": [
    {
     "name": "stderr",
     "output_type": "stream",
     "text": [
      "100%|██████████| 1500/1500 [07:03<00:00,  3.55it/s]"
     ]
    },
    {
     "name": "stdout",
     "output_type": "stream",
     "text": [
      "Were found 2795 images of correct class out of 15000 found images, with a total accuracy of 0.18633333333333332\n"
     ]
    },
    {
     "name": "stderr",
     "output_type": "stream",
     "text": [
      "\n"
     ]
    }
   ],
   "source": [
    "class_names = ['Baked Potato',\n",
    "               'Burger',\n",
    "               'Crispy Chicken',\n",
    "               'Donut',\n",
    "               'Fries',\n",
    "               'Hot Dog',\n",
    "               'Pizza',\n",
    "               'Sandwich',\n",
    "               'Taco',\n",
    "               'Taquito']\n",
    "correct = 0\n",
    "total_images = 0\n",
    "for i in tqdm(range(0, len(test_features[0]))):\n",
    "  \n",
    "  feature = test_features[0][i]\n",
    "  label = test_features[2][i]\n",
    "  path = test_features[1][i]\n",
    "  indices = search_image('./',model, nn, feature=feature)\n",
    "  indices = indices[0]\n",
    "  for index in indices:\n",
    "    if np.array_equal(train_features[2][index], label):\n",
    "      correct += 1\n",
    "  total_images += len(indices)\n",
    "  \n",
    "accuracy = correct / total_images\n",
    "\n",
    "print(f'Were found {correct} images of correct class out of {total_images} found images, with a total accuracy of {accuracy}')\n",
    "\n"
   ]
  },
  {
   "cell_type": "code",
   "execution_count": null,
   "metadata": {},
   "outputs": [],
   "source": [
    "search_image(\n",
    "    './hamburger.jpg', model, nn, plot=True)\n"
   ]
  }
 ],
 "metadata": {
  "kernelspec": {
   "display_name": "Python 3",
   "language": "python",
   "name": "python3"
  },
  "language_info": {
   "codemirror_mode": {
    "name": "ipython",
    "version": 3
   },
   "file_extension": ".py",
   "mimetype": "text/x-python",
   "name": "python",
   "nbconvert_exporter": "python",
   "pygments_lexer": "ipython3",
   "version": "3.10.7 (tags/v3.10.7:6cc6b13, Sep  5 2022, 14:08:36) [MSC v.1933 64 bit (AMD64)]"
  },
  "orig_nbformat": 4,
  "vscode": {
   "interpreter": {
    "hash": "e850eec08e9669c52e782ee28b71a07544c9e38f5af88e96f29f06e82864309f"
   }
  }
 },
 "nbformat": 4,
 "nbformat_minor": 2
}
