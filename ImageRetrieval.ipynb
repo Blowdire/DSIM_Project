{
 "cells": [
  {
   "cell_type": "code",
   "execution_count": 1,
   "metadata": {},
   "outputs": [],
   "source": [
    "import numpy as np \n",
    "from tensorflow.keras.models import Model\n",
    "from tensorflow.keras.applications.vgg16 import VGG16\n",
    "from tensorflow.keras.preprocessing import image\n",
    "from tensorflow.keras.applications.vgg16 import preprocess_input\n",
    "import pathlib\n",
    "import tensorflow as tf\n",
    "from tensorflow.keras import layers"
   ]
  },
  {
   "cell_type": "code",
   "execution_count": 5,
   "metadata": {},
   "outputs": [
    {
     "name": "stdout",
     "output_type": "stream",
     "text": [
      "Datasets\\ImageRetrieval\\Train\\Donut\\Donut (16).jpeg is not an image\n",
      "Datasets\\ImageRetrieval\\Train\\Hot Dog\\Hot Dog - Train (11).jpeg is not an image\n",
      "Datasets\\ImageRetrieval\\Train\\Hot Dog\\Hot Dog - Train (39).jpeg is not an image\n",
      "Datasets\\ImageRetrieval\\Train\\Hot Dog\\Hot Dog - Train (42).jpeg is not an image\n",
      "Datasets\\ImageRetrieval\\Train\\Hot Dog\\Hot Dog - Train (59).jpeg is a webp, not accepted by TensorFlow\n",
      "Datasets\\ImageRetrieval\\Train\\Hot Dog\\Hot Dog - Train (73).jpeg is not an image\n",
      "Datasets\\ImageRetrieval\\Train\\Hot Dog\\Hot Dog - Train (75).jpeg is not an image\n"
     ]
    }
   ],
   "source": [
    "from pathlib import Path\n",
    "import imghdr\n",
    "import os\n",
    "data_dir = \"./Datasets/ImageRetrieval/Train/\"\n",
    "# add there all your images file extensions\n",
    "image_extensions = [\".png\", \".jpg\",\".jpeg\"]\n",
    "\n",
    "img_type_accepted_by_tf = [\"bmp\", \"gif\", \"jpeg\", \"png\"]\n",
    "for filepath in Path(data_dir).rglob(\"*\"):\n",
    "    if filepath.suffix.lower() in image_extensions:\n",
    "        img_type = imghdr.what(filepath)\n",
    "        if img_type is None:\n",
    "            os.remove('./'+str(filepath))\n",
    "            print(f\"{filepath} is not an image\")\n",
    "        elif img_type not in img_type_accepted_by_tf:\n",
    "            os.remove('./'+str(filepath))\n",
    "            print(f\"{filepath} is a {img_type}, not accepted by TensorFlow\")\n"
   ]
  },
  {
   "cell_type": "code",
   "execution_count": 2,
   "metadata": {},
   "outputs": [
    {
     "name": "stdout",
     "output_type": "stream",
     "text": [
      "Found 14811 files belonging to 10 classes.\n",
      "Found 1500 files belonging to 10 classes.\n",
      "Found 3500 files belonging to 10 classes.\n"
     ]
    }
   ],
   "source": [
    "train_ds = tf.keras.preprocessing.image_dataset_from_directory('./Datasets/ImageRetrieval/Train', batch_size=128,\n",
    "                                                               label_mode='categorical', image_size=(224, 224), seed=1)\n",
    "test_ds = tf.keras.preprocessing.image_dataset_from_directory('./Datasets/ImageRetrieval/Test', batch_size=128,\n",
    "                                                               label_mode='categorical', image_size=(224, 224), seed=1)\n",
    "val_ds = tf.keras.preprocessing.image_dataset_from_directory('./Datasets/ImageRetrieval/Valid', batch_size=128,\n",
    "                                                             label_mode='categorical', image_size=(224, 224), seed=1)\n"
   ]
  },
  {
   "cell_type": "code",
   "execution_count": 3,
   "metadata": {},
   "outputs": [],
   "source": [
    "def format_image(image, label):\n",
    "    image = tf.image.resize(image, (224, 224))/255.0\n",
    "\n",
    "    image = preprocess_input(image)\n",
    "    return image, label"
   ]
  },
  {
   "cell_type": "code",
   "execution_count": 4,
   "metadata": {},
   "outputs": [],
   "source": [
    "train_ds = train_ds.map(format_image).prefetch(256)\n",
    "test_ds = test_ds.map(format_image).prefetch(256)\n",
    "val_ds = val_ds.map(format_image).prefetch(256)\n"
   ]
  },
  {
   "attachments": {},
   "cell_type": "markdown",
   "metadata": {},
   "source": [
    "## Third pooling layer features"
   ]
  },
  {
   "cell_type": "code",
   "execution_count": 5,
   "metadata": {},
   "outputs": [
    {
     "name": "stdout",
     "output_type": "stream",
     "text": [
      "Model: \"model\"\n",
      "_________________________________________________________________\n",
      " Layer (type)                Output Shape              Param #   \n",
      "=================================================================\n",
      " input_1 (InputLayer)        [(None, 224, 224, 3)]     0         \n",
      "                                                                 \n",
      " block1_conv1 (Conv2D)       (None, 224, 224, 64)      1792      \n",
      "                                                                 \n",
      " block1_conv2 (Conv2D)       (None, 224, 224, 64)      36928     \n",
      "                                                                 \n",
      " block1_pool (MaxPooling2D)  (None, 112, 112, 64)      0         \n",
      "                                                                 \n",
      " block2_conv1 (Conv2D)       (None, 112, 112, 128)     73856     \n",
      "                                                                 \n",
      " block2_conv2 (Conv2D)       (None, 112, 112, 128)     147584    \n",
      "                                                                 \n",
      " block2_pool (MaxPooling2D)  (None, 56, 56, 128)       0         \n",
      "                                                                 \n",
      " block3_conv1 (Conv2D)       (None, 56, 56, 256)       295168    \n",
      "                                                                 \n",
      " block3_conv2 (Conv2D)       (None, 56, 56, 256)       590080    \n",
      "                                                                 \n",
      " block3_conv3 (Conv2D)       (None, 56, 56, 256)       590080    \n",
      "                                                                 \n",
      " block3_pool (MaxPooling2D)  (None, 28, 28, 256)       0         \n",
      "                                                                 \n",
      "=================================================================\n",
      "Total params: 1,735,488\n",
      "Trainable params: 1,735,488\n",
      "Non-trainable params: 0\n",
      "_________________________________________________________________\n"
     ]
    }
   ],
   "source": [
    "base_model = VGG16(weights='imagenet')\n",
    "model = Model(inputs=base_model.input,\n",
    "              outputs=base_model.get_layer('block3_pool').output)\n",
    "model.summary()\n"
   ]
  },
  {
   "cell_type": "code",
   "execution_count": 6,
   "metadata": {},
   "outputs": [
    {
     "name": "stderr",
     "output_type": "stream",
     "text": [
      "100%|██████████| 116/116 [02:38<00:00,  1.37s/it]\n"
     ]
    }
   ],
   "source": [
    "from tqdm import tqdm\n",
    "train_features = []\n",
    "for items in tqdm(train_ds):\n",
    "  predictions = model.predict(items[0], verbose=False)\n",
    "  for prediction in predictions:\n",
    "    train_features.append(prediction.flatten())\n"
   ]
  },
  {
   "cell_type": "code",
   "execution_count": 13,
   "metadata": {},
   "outputs": [
    {
     "data": {
      "text/plain": [
       "14811"
      ]
     },
     "execution_count": 13,
     "metadata": {},
     "output_type": "execute_result"
    }
   ],
   "source": [
    "len(train_features)"
   ]
  },
  {
   "cell_type": "code",
   "execution_count": null,
   "metadata": {},
   "outputs": [],
   "source": [
    "val_features = []\n",
    "for items in tqdm(val_ds):\n",
    "  predictions = model.predict(items[0])\n",
    "  for prediction in predictions:\n",
    "    val_features.append(prediction.flatten())\n"
   ]
  },
  {
   "cell_type": "code",
   "execution_count": null,
   "metadata": {},
   "outputs": [],
   "source": [
    "test_features = []\n",
    "for items in tqdm(test_ds):\n",
    "  predictions = model.predict(items[0])\n",
    "  for prediction in predictions:\n",
    "    test_features.append(prediction)\n"
   ]
  },
  {
   "cell_type": "code",
   "execution_count": null,
   "metadata": {},
   "outputs": [],
   "source": [
    "full_dataset = np.concatenate((train_features, val_features))\n"
   ]
  },
  {
   "cell_type": "code",
   "execution_count": 9,
   "metadata": {},
   "outputs": [],
   "source": [
    "import pickle\n",
    "\n",
    "# with open('./Datasets/ImageRetrieval/ProcessedFeatures/train_feat_pool3.pkl', 'wb') as f:\n",
    "#   pickle.dump(train_features, f)\n",
    "# with open('./Datasets/ImageRetrieval/ProcessedFeatures/test_feat_pool3.pkl', 'wb') as f:\n",
    "#   pickle.dump(test_features, f)\n",
    "with open('./Datasets/ImageRetrieval/ProcessedFeatures/val_feat_pool3.pkl', 'wb') as f:\n",
    "  pickle.dump(val_features, f)\n"
   ]
  },
  {
   "cell_type": "code",
   "execution_count": 2,
   "metadata": {},
   "outputs": [],
   "source": [
    "import pickle\n",
    "\n",
    "with open('./Datasets//ImageRetrieval/ProcessedFeatures/train_feat_pool3.pkl', 'rb') as f:\n",
    "  train_features = pickle.load(f)\n",
    "# with open('./ImageRetrieval/ProcessedFeatures/test_feat_pool3.pkl', 'rb') as f:\n",
    "#   test_features = pickle.pickle.load(f)\n",
    "# with open('./Datasets//ImageRetrieval/ProcessedFeatures/val_feat_pool3.pkl', 'rb') as f:\n",
    "#   val_features = pickle.load(f)\n"
   ]
  },
  {
   "cell_type": "code",
   "execution_count": 6,
   "metadata": {},
   "outputs": [],
   "source": [
    "full_dataset = np.concatenate((train_features, val_features))"
   ]
  },
  {
   "cell_type": "code",
   "execution_count": 7,
   "metadata": {},
   "outputs": [],
   "source": [
    "from sklearn.neighbors import KDTree\n",
    "\n",
    "tree = KDTree(train_features)\n"
   ]
  },
  {
   "cell_type": "code",
   "execution_count": null,
   "metadata": {},
   "outputs": [],
   "source": [
    "import pickle\n",
    "\n",
    "with open('./kb_tree.pkl','wb') as f:\n",
    "  pickle.dump(tree, f)"
   ]
  },
  {
   "cell_type": "markdown",
   "metadata": {},
   "source": []
  },
  {
   "attachments": {},
   "cell_type": "markdown",
   "metadata": {},
   "source": [
    "## Last pooling layer features"
   ]
  }
 ],
 "metadata": {
  "kernelspec": {
   "display_name": "Python 3",
   "language": "python",
   "name": "python3"
  },
  "language_info": {
   "codemirror_mode": {
    "name": "ipython",
    "version": 3
   },
   "file_extension": ".py",
   "mimetype": "text/x-python",
   "name": "python",
   "nbconvert_exporter": "python",
   "pygments_lexer": "ipython3",
   "version": "3.10.7 (tags/v3.10.7:6cc6b13, Sep  5 2022, 14:08:36) [MSC v.1933 64 bit (AMD64)]"
  },
  "orig_nbformat": 4,
  "vscode": {
   "interpreter": {
    "hash": "e850eec08e9669c52e782ee28b71a07544c9e38f5af88e96f29f06e82864309f"
   }
  }
 },
 "nbformat": 4,
 "nbformat_minor": 2
}
